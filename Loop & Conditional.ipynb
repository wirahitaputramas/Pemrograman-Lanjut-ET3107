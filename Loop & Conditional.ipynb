{
 "cells": [
  {
   "cell_type": "code",
   "execution_count": 4,
   "metadata": {},
   "outputs": [
    {
     "name": "stdout",
     "output_type": "stream",
     "text": [
      "You have...\n",
      "A banana\n",
      "A apple\n",
      "A orange\n",
      "A tomato\n",
      "A pear\n",
      "A grape\n",
      "A fine selection of fruits!\n",
      "a\n",
      "b\n",
      "c\n",
      "completed!\n"
     ]
    }
   ],
   "source": [
    "# 8\n",
    "fruits = ['banana', 'apple', 'orange', 'tomato', 'pear', 'grape']\n",
    "print ('You have...')\n",
    "for f in fruits:\n",
    "    if f == 'tomato1': # kl match, executed; else never\n",
    "        print ('A tomato is not a fruit!' )\n",
    "        break\n",
    "    print ('A', f)\n",
    "else:\n",
    "    print ('A fine selection of fruits!')\n",
    "# ---\n",
    "# 9\n",
    "thelist = ['a','b','c']\n",
    "for i in thelist:\n",
    "    print (i)\n",
    "else:\n",
    "    print ('completed!')"
   ]
  },
  {
   "cell_type": "code",
   "execution_count": null,
   "metadata": {},
   "outputs": [],
   "source": []
  },
  {
   "cell_type": "code",
   "execution_count": null,
   "metadata": {},
   "outputs": [],
   "source": []
  },
  {
   "cell_type": "code",
   "execution_count": null,
   "metadata": {},
   "outputs": [],
   "source": []
  },
  {
   "cell_type": "code",
   "execution_count": null,
   "metadata": {},
   "outputs": [],
   "source": []
  }
 ],
 "metadata": {
  "kernelspec": {
   "display_name": "Python 3",
   "language": "python",
   "name": "python3"
  },
  "language_info": {
   "codemirror_mode": {
    "name": "ipython",
    "version": 3
   },
   "file_extension": ".py",
   "mimetype": "text/x-python",
   "name": "python",
   "nbconvert_exporter": "python",
   "pygments_lexer": "ipython3",
   "version": "3.7.3"
  }
 },
 "nbformat": 4,
 "nbformat_minor": 2
}
